{
 "cells": [
  {
   "cell_type": "code",
   "execution_count": 1,
   "id": "c6bfd871-93e9-4146-bb46-97b54a7190a2",
   "metadata": {},
   "outputs": [],
   "source": [
    "from selenium import webdriver\n",
    "from selenium.webdriver.chrome.service import Service\n",
    "from webdriver_manager.chrome import ChromeDriverManager"
   ]
  },
  {
   "cell_type": "code",
   "execution_count": 2,
   "id": "10a9a205-b31f-4f9e-8b1e-ab21e817c885",
   "metadata": {},
   "outputs": [],
   "source": [
    "# Start the driver\n",
    "driver = webdriver.Chrome(service=Service(ChromeDriverManager().install()))"
   ]
  },
  {
   "cell_type": "code",
   "execution_count": 3,
   "id": "9cd91fcb-43bd-426a-bea0-8fbf5f0c1aa2",
   "metadata": {},
   "outputs": [],
   "source": [
    "# Get Data\n",
    "league_url = \"https://fbref.com/en/comps/10/Championship-Stats\"\n",
    "driver.get(league_url)"
   ]
  },
  {
   "cell_type": "code",
   "execution_count": 4,
   "id": "19295b3e-e929-463b-b7c9-98c121bc004d",
   "metadata": {},
   "outputs": [],
   "source": [
    "# Get the HTML content\n",
    "data = driver.page_source"
   ]
  },
  {
   "cell_type": "code",
   "execution_count": 5,
   "id": "d5c74652-cd91-4659-a863-656c27f337e0",
   "metadata": {},
   "outputs": [],
   "source": [
    "from bs4 import BeautifulSoup"
   ]
  },
  {
   "cell_type": "code",
   "execution_count": 6,
   "id": "8ff6d3f7-2fc0-40c5-98ee-687760f52810",
   "metadata": {},
   "outputs": [],
   "source": [
    "soup = BeautifulSoup(data)\n",
    "league_table = soup.select_one('table.stats_table') # identify correct table element using its CSS class: stats_table\n",
    "links = league_table.find_all('a') # find all team links using their anchor tags\n",
    "links = [l.get(\"href\") for l in links] # get the href attribute value of each anchor element\n",
    "links = [l for l in links if '/squads/' in l]"
   ]
  },
  {
   "cell_type": "code",
   "execution_count": 7,
   "id": "a8f4cef8-4e0c-46ef-92be-8adfe5c9463a",
   "metadata": {},
   "outputs": [],
   "source": [
    "team_urls = [f\"https://fbref.com{l}\" for l in links] # change relative links to absolute links"
   ]
  },
  {
   "cell_type": "code",
   "execution_count": 8,
   "id": "9e1ac32c-772e-4be0-b45d-dccf41e6fc78",
   "metadata": {},
   "outputs": [],
   "source": [
    "from io import StringIO"
   ]
  },
  {
   "cell_type": "code",
   "execution_count": 9,
   "id": "b904d6a6-aa6d-4d0f-b42b-71a1a8e17a9c",
   "metadata": {},
   "outputs": [],
   "source": [
    "driver.get(team_urls[0]) # get html data from league leader\n",
    "data = StringIO(driver.page_source) # wrap HTML content inside a \"file-like\" object, which pandas can read"
   ]
  },
  {
   "cell_type": "code",
   "execution_count": 10,
   "id": "59e11223-ff8d-4b05-83c5-ff09b8ec9b10",
   "metadata": {},
   "outputs": [],
   "source": [
    "import pandas as pd"
   ]
  },
  {
   "cell_type": "code",
   "execution_count": 11,
   "id": "b94ebf7c-e72c-4832-9b04-7bf7999814bb",
   "metadata": {},
   "outputs": [],
   "source": [
    "matches = pd.read_html(data, match=\"Scores & Fixtures\")[0]"
   ]
  },
  {
   "cell_type": "code",
   "execution_count": 12,
   "id": "fa927a12-0362-4a45-8d3c-803c32b8a3e0",
   "metadata": {},
   "outputs": [],
   "source": [
    "soup = BeautifulSoup(data)\n",
    "links = soup.find_all('a', href=True)\n",
    "links = [l.get(\"href\") for l in links] # extract the 'href' attribute from each anchor tag\n",
    "links = [l for l in links if l and 'all_comps/shooting/' in l] # Filter links to only those linked to the shooting stats page (and are not None)"
   ]
  },
  {
   "cell_type": "code",
   "execution_count": 13,
   "id": "e09af8cb-3533-47f3-b4f8-22f36514eb72",
   "metadata": {},
   "outputs": [],
   "source": [
    "driver.get(f\"https://fbref.com{links[0]}\")\n",
    "data = StringIO(driver.page_source)"
   ]
  },
  {
   "cell_type": "code",
   "execution_count": 14,
   "id": "9ce95cd1-78e2-4411-a956-a74b43078262",
   "metadata": {},
   "outputs": [],
   "source": [
    "shooting = pd.read_html(data, match=\"Shooting\", flavor='html5lib')[0]"
   ]
  },
  {
   "cell_type": "code",
   "execution_count": 15,
   "id": "3a442054-0312-4e21-a662-0c8145f848d1",
   "metadata": {},
   "outputs": [
    {
     "data": {
      "text/html": [
       "<div>\n",
       "<style scoped>\n",
       "    .dataframe tbody tr th:only-of-type {\n",
       "        vertical-align: middle;\n",
       "    }\n",
       "\n",
       "    .dataframe tbody tr th {\n",
       "        vertical-align: top;\n",
       "    }\n",
       "\n",
       "    .dataframe thead tr th {\n",
       "        text-align: left;\n",
       "    }\n",
       "</style>\n",
       "<table border=\"1\" class=\"dataframe\">\n",
       "  <thead>\n",
       "    <tr>\n",
       "      <th></th>\n",
       "      <th colspan=\"10\" halign=\"left\">For Stoke City</th>\n",
       "      <th>...</th>\n",
       "      <th colspan=\"4\" halign=\"left\">Standard</th>\n",
       "      <th colspan=\"5\" halign=\"left\">Expected</th>\n",
       "      <th>Unnamed: 25_level_0</th>\n",
       "    </tr>\n",
       "    <tr>\n",
       "      <th></th>\n",
       "      <th>Date</th>\n",
       "      <th>Time</th>\n",
       "      <th>Comp</th>\n",
       "      <th>Round</th>\n",
       "      <th>Day</th>\n",
       "      <th>Venue</th>\n",
       "      <th>Result</th>\n",
       "      <th>GF</th>\n",
       "      <th>GA</th>\n",
       "      <th>Opponent</th>\n",
       "      <th>...</th>\n",
       "      <th>Dist</th>\n",
       "      <th>FK</th>\n",
       "      <th>PK</th>\n",
       "      <th>PKatt</th>\n",
       "      <th>xG</th>\n",
       "      <th>npxG</th>\n",
       "      <th>npxG/Sh</th>\n",
       "      <th>G-xG</th>\n",
       "      <th>np:G-xG</th>\n",
       "      <th>Match Report</th>\n",
       "    </tr>\n",
       "  </thead>\n",
       "  <tbody>\n",
       "    <tr>\n",
       "      <th>0</th>\n",
       "      <td>2025-08-09</td>\n",
       "      <td>15:00 (16:00)</td>\n",
       "      <td>Championship</td>\n",
       "      <td>Matchweek 1</td>\n",
       "      <td>Sat</td>\n",
       "      <td>Home</td>\n",
       "      <td>W</td>\n",
       "      <td>3</td>\n",
       "      <td>1</td>\n",
       "      <td>Derby County</td>\n",
       "      <td>...</td>\n",
       "      <td>18.5</td>\n",
       "      <td>1.0</td>\n",
       "      <td>0</td>\n",
       "      <td>0</td>\n",
       "      <td>1.1</td>\n",
       "      <td>1.1</td>\n",
       "      <td>0.09</td>\n",
       "      <td>1.9</td>\n",
       "      <td>1.9</td>\n",
       "      <td>Match Report</td>\n",
       "    </tr>\n",
       "    <tr>\n",
       "      <th>1</th>\n",
       "      <td>2025-08-12</td>\n",
       "      <td>19:45 (20:45)</td>\n",
       "      <td>EFL Cup</td>\n",
       "      <td>First round</td>\n",
       "      <td>Tue</td>\n",
       "      <td>Home</td>\n",
       "      <td>D</td>\n",
       "      <td>0 (4)</td>\n",
       "      <td>0 (3)</td>\n",
       "      <td>Walsall</td>\n",
       "      <td>...</td>\n",
       "      <td>NaN</td>\n",
       "      <td>NaN</td>\n",
       "      <td>0</td>\n",
       "      <td>0</td>\n",
       "      <td>NaN</td>\n",
       "      <td>NaN</td>\n",
       "      <td>NaN</td>\n",
       "      <td>NaN</td>\n",
       "      <td>NaN</td>\n",
       "      <td>Match Report</td>\n",
       "    </tr>\n",
       "    <tr>\n",
       "      <th>2</th>\n",
       "      <td>2025-08-16</td>\n",
       "      <td>15:00 (16:00)</td>\n",
       "      <td>Championship</td>\n",
       "      <td>Matchweek 2</td>\n",
       "      <td>Sat</td>\n",
       "      <td>Away</td>\n",
       "      <td>W</td>\n",
       "      <td>3</td>\n",
       "      <td>0</td>\n",
       "      <td>Sheffield Weds</td>\n",
       "      <td>...</td>\n",
       "      <td>16.7</td>\n",
       "      <td>0.0</td>\n",
       "      <td>0</td>\n",
       "      <td>0</td>\n",
       "      <td>2.0</td>\n",
       "      <td>2.0</td>\n",
       "      <td>0.17</td>\n",
       "      <td>1.0</td>\n",
       "      <td>1.0</td>\n",
       "      <td>Match Report</td>\n",
       "    </tr>\n",
       "    <tr>\n",
       "      <th>3</th>\n",
       "      <td>NaN</td>\n",
       "      <td>NaN</td>\n",
       "      <td>NaN</td>\n",
       "      <td>NaN</td>\n",
       "      <td>NaN</td>\n",
       "      <td>NaN</td>\n",
       "      <td>--</td>\n",
       "      <td>NaN</td>\n",
       "      <td>NaN</td>\n",
       "      <td>NaN</td>\n",
       "      <td>...</td>\n",
       "      <td>17.6</td>\n",
       "      <td>1.0</td>\n",
       "      <td>0</td>\n",
       "      <td>0</td>\n",
       "      <td>NaN</td>\n",
       "      <td>NaN</td>\n",
       "      <td>0.13</td>\n",
       "      <td>6.0</td>\n",
       "      <td>6.0</td>\n",
       "      <td>NaN</td>\n",
       "    </tr>\n",
       "  </tbody>\n",
       "</table>\n",
       "<p>4 rows × 26 columns</p>\n",
       "</div>"
      ],
      "text/plain": [
       "  For Stoke City                                                              \\\n",
       "            Date           Time          Comp        Round  Day Venue Result   \n",
       "0     2025-08-09  15:00 (16:00)  Championship  Matchweek 1  Sat  Home      W   \n",
       "1     2025-08-12  19:45 (20:45)       EFL Cup  First round  Tue  Home      D   \n",
       "2     2025-08-16  15:00 (16:00)  Championship  Matchweek 2  Sat  Away      W   \n",
       "3            NaN            NaN           NaN          NaN  NaN   NaN     --   \n",
       "\n",
       "                                 ... Standard               Expected       \\\n",
       "      GF     GA        Opponent  ...     Dist   FK PK PKatt       xG npxG   \n",
       "0      3      1    Derby County  ...     18.5  1.0  0     0      1.1  1.1   \n",
       "1  0 (4)  0 (3)         Walsall  ...      NaN  NaN  0     0      NaN  NaN   \n",
       "2      3      0  Sheffield Weds  ...     16.7  0.0  0     0      2.0  2.0   \n",
       "3    NaN    NaN             NaN  ...     17.6  1.0  0     0      NaN  NaN   \n",
       "\n",
       "                       Unnamed: 25_level_0  \n",
       "  npxG/Sh G-xG np:G-xG        Match Report  \n",
       "0    0.09  1.9     1.9        Match Report  \n",
       "1     NaN  NaN     NaN        Match Report  \n",
       "2    0.17  1.0     1.0        Match Report  \n",
       "3    0.13  6.0     6.0                 NaN  \n",
       "\n",
       "[4 rows x 26 columns]"
      ]
     },
     "execution_count": 15,
     "metadata": {},
     "output_type": "execute_result"
    }
   ],
   "source": [
    "shooting.head(5)"
   ]
  },
  {
   "cell_type": "code",
   "execution_count": 16,
   "id": "0b024f3a-a0b3-4b53-8dbd-b5649f1326ac",
   "metadata": {},
   "outputs": [],
   "source": [
    "shooting.columns = shooting.columns.droplevel() # remove top of double index heading"
   ]
  },
  {
   "cell_type": "code",
   "execution_count": 17,
   "id": "ccac08ea-724c-4ea4-b4cb-615de33e167a",
   "metadata": {},
   "outputs": [],
   "source": [
    "# Merge matches dataframe with some columns of the shooting dataframe using date\n",
    "team_data = matches.merge(shooting[[\"Date\", \"Sh\", \"SoT\", \"Dist\", \"FK\", \"PK\", \"PKatt\", \"xG\", \"npxG\"]], on=\"Date\")\n",
    "# Sh = shots, SoT = shots on target, Dist = avg. shot distance, FK = freekicks, PK = penalty kicks, PKatt = penalty kicks attempted, \n",
    "# xG = expected goals, npxG = expected goals not including penalties"
   ]
  },
  {
   "cell_type": "code",
   "execution_count": 18,
   "id": "cb16fa23-bf93-40fc-a479-f9ae4114f2ac",
   "metadata": {},
   "outputs": [
    {
     "data": {
      "text/html": [
       "<div>\n",
       "<style scoped>\n",
       "    .dataframe tbody tr th:only-of-type {\n",
       "        vertical-align: middle;\n",
       "    }\n",
       "\n",
       "    .dataframe tbody tr th {\n",
       "        vertical-align: top;\n",
       "    }\n",
       "\n",
       "    .dataframe thead th {\n",
       "        text-align: right;\n",
       "    }\n",
       "</style>\n",
       "<table border=\"1\" class=\"dataframe\">\n",
       "  <thead>\n",
       "    <tr style=\"text-align: right;\">\n",
       "      <th></th>\n",
       "      <th>Date</th>\n",
       "      <th>Time</th>\n",
       "      <th>Comp</th>\n",
       "      <th>Round</th>\n",
       "      <th>Day</th>\n",
       "      <th>Venue</th>\n",
       "      <th>Result</th>\n",
       "      <th>GF</th>\n",
       "      <th>GA</th>\n",
       "      <th>Opponent</th>\n",
       "      <th>...</th>\n",
       "      <th>Match Report</th>\n",
       "      <th>Notes</th>\n",
       "      <th>Sh</th>\n",
       "      <th>SoT</th>\n",
       "      <th>Dist</th>\n",
       "      <th>FK</th>\n",
       "      <th>PK</th>\n",
       "      <th>PKatt</th>\n",
       "      <th>xG_y</th>\n",
       "      <th>npxG</th>\n",
       "    </tr>\n",
       "  </thead>\n",
       "  <tbody>\n",
       "    <tr>\n",
       "      <th>0</th>\n",
       "      <td>2025-08-09</td>\n",
       "      <td>15:00 (16:00)</td>\n",
       "      <td>Championship</td>\n",
       "      <td>Matchweek 1</td>\n",
       "      <td>Sat</td>\n",
       "      <td>Home</td>\n",
       "      <td>W</td>\n",
       "      <td>3</td>\n",
       "      <td>1</td>\n",
       "      <td>Derby County</td>\n",
       "      <td>...</td>\n",
       "      <td>Match Report</td>\n",
       "      <td>NaN</td>\n",
       "      <td>12</td>\n",
       "      <td>7</td>\n",
       "      <td>18.5</td>\n",
       "      <td>1.0</td>\n",
       "      <td>0</td>\n",
       "      <td>0</td>\n",
       "      <td>1.1</td>\n",
       "      <td>1.1</td>\n",
       "    </tr>\n",
       "    <tr>\n",
       "      <th>1</th>\n",
       "      <td>2025-08-12</td>\n",
       "      <td>19:45 (20:45)</td>\n",
       "      <td>EFL Cup</td>\n",
       "      <td>First round</td>\n",
       "      <td>Tue</td>\n",
       "      <td>Home</td>\n",
       "      <td>D</td>\n",
       "      <td>0 (4)</td>\n",
       "      <td>0 (3)</td>\n",
       "      <td>Walsall</td>\n",
       "      <td>...</td>\n",
       "      <td>Match Report</td>\n",
       "      <td>Stoke City won on penalty kicks following norm...</td>\n",
       "      <td>8</td>\n",
       "      <td>1</td>\n",
       "      <td>NaN</td>\n",
       "      <td>NaN</td>\n",
       "      <td>0</td>\n",
       "      <td>0</td>\n",
       "      <td>NaN</td>\n",
       "      <td>NaN</td>\n",
       "    </tr>\n",
       "    <tr>\n",
       "      <th>2</th>\n",
       "      <td>2025-08-16</td>\n",
       "      <td>15:00 (16:00)</td>\n",
       "      <td>Championship</td>\n",
       "      <td>Matchweek 2</td>\n",
       "      <td>Sat</td>\n",
       "      <td>Away</td>\n",
       "      <td>W</td>\n",
       "      <td>3</td>\n",
       "      <td>0</td>\n",
       "      <td>Sheffield Weds</td>\n",
       "      <td>...</td>\n",
       "      <td>Match Report</td>\n",
       "      <td>NaN</td>\n",
       "      <td>12</td>\n",
       "      <td>5</td>\n",
       "      <td>16.7</td>\n",
       "      <td>0.0</td>\n",
       "      <td>0</td>\n",
       "      <td>0</td>\n",
       "      <td>2.0</td>\n",
       "      <td>2.0</td>\n",
       "    </tr>\n",
       "  </tbody>\n",
       "</table>\n",
       "<p>3 rows × 28 columns</p>\n",
       "</div>"
      ],
      "text/plain": [
       "         Date           Time          Comp        Round  Day Venue Result  \\\n",
       "0  2025-08-09  15:00 (16:00)  Championship  Matchweek 1  Sat  Home      W   \n",
       "1  2025-08-12  19:45 (20:45)       EFL Cup  First round  Tue  Home      D   \n",
       "2  2025-08-16  15:00 (16:00)  Championship  Matchweek 2  Sat  Away      W   \n",
       "\n",
       "      GF     GA        Opponent  ...  Match Report  \\\n",
       "0      3      1    Derby County  ...  Match Report   \n",
       "1  0 (4)  0 (3)         Walsall  ...  Match Report   \n",
       "2      3      0  Sheffield Weds  ...  Match Report   \n",
       "\n",
       "                                               Notes  Sh SoT  Dist   FK PK  \\\n",
       "0                                                NaN  12   7  18.5  1.0  0   \n",
       "1  Stoke City won on penalty kicks following norm...   8   1   NaN  NaN  0   \n",
       "2                                                NaN  12   5  16.7  0.0  0   \n",
       "\n",
       "  PKatt xG_y npxG  \n",
       "0     0  1.1  1.1  \n",
       "1     0  NaN  NaN  \n",
       "2     0  2.0  2.0  \n",
       "\n",
       "[3 rows x 28 columns]"
      ]
     },
     "execution_count": 18,
     "metadata": {},
     "output_type": "execute_result"
    }
   ],
   "source": [
    "team_data.head()"
   ]
  },
  {
   "cell_type": "code",
   "execution_count": 19,
   "id": "0515b73f-3fc4-4514-b66b-4ba68dbfa1fc",
   "metadata": {},
   "outputs": [],
   "source": [
    "# Begin process of scraping data from multiple teams for multiple years using a for loop\n",
    "\n",
    "years = list(range(2025, 2022, -1))\n",
    "all_matches = []"
   ]
  },
  {
   "cell_type": "code",
   "execution_count": null,
   "id": "ff072127-6a65-4b3e-933d-e84b92bf120c",
   "metadata": {},
   "outputs": [
    {
     "ename": "ValueError",
     "evalue": "No tables found",
     "output_type": "error",
     "traceback": [
      "\u001b[31m---------------------------------------------------------------------------\u001b[39m",
      "\u001b[31mValueError\u001b[39m                                Traceback (most recent call last)",
      "\u001b[36mCell\u001b[39m\u001b[36m \u001b[39m\u001b[32mIn[20]\u001b[39m\u001b[32m, line 29\u001b[39m\n\u001b[32m     27\u001b[39m driver.get(\u001b[33mf\u001b[39m\u001b[33m\"\u001b[39m\u001b[33mhttps://fbref.com\u001b[39m\u001b[38;5;132;01m{\u001b[39;00mlinks[\u001b[32m0\u001b[39m]\u001b[38;5;132;01m}\u001b[39;00m\u001b[33m\"\u001b[39m)\n\u001b[32m     28\u001b[39m data = StringIO(driver.page_source)\n\u001b[32m---> \u001b[39m\u001b[32m29\u001b[39m shooting = \u001b[43mpd\u001b[49m\u001b[43m.\u001b[49m\u001b[43mread_html\u001b[49m\u001b[43m(\u001b[49m\u001b[43mdata\u001b[49m\u001b[43m,\u001b[49m\u001b[43m \u001b[49m\u001b[43mmatch\u001b[49m\u001b[43m=\u001b[49m\u001b[33;43m\"\u001b[39;49m\u001b[33;43mShooting\u001b[39;49m\u001b[33;43m\"\u001b[39;49m\u001b[43m,\u001b[49m\u001b[43m \u001b[49m\u001b[43mflavor\u001b[49m\u001b[43m=\u001b[49m\u001b[33;43m'\u001b[39;49m\u001b[33;43mhtml5lib\u001b[39;49m\u001b[33;43m'\u001b[39;49m\u001b[43m)\u001b[49m[\u001b[32m0\u001b[39m]\n\u001b[32m     30\u001b[39m shooting.columns = shooting.columns.droplevel()\n\u001b[32m     32\u001b[39m desired_cols = [\u001b[33m\"\u001b[39m\u001b[33mDate\u001b[39m\u001b[33m\"\u001b[39m, \u001b[33m\"\u001b[39m\u001b[33mSh\u001b[39m\u001b[33m\"\u001b[39m, \u001b[33m\"\u001b[39m\u001b[33mSoT\u001b[39m\u001b[33m\"\u001b[39m, \u001b[33m\"\u001b[39m\u001b[33mDist\u001b[39m\u001b[33m\"\u001b[39m, \u001b[33m\"\u001b[39m\u001b[33mFK\u001b[39m\u001b[33m\"\u001b[39m, \u001b[33m\"\u001b[39m\u001b[33mPK\u001b[39m\u001b[33m\"\u001b[39m, \u001b[33m\"\u001b[39m\u001b[33mPKatt\u001b[39m\u001b[33m\"\u001b[39m, \u001b[33m\"\u001b[39m\u001b[33mxG\u001b[39m\u001b[33m\"\u001b[39m, \u001b[33m\"\u001b[39m\u001b[33mnpxG\u001b[39m\u001b[33m\"\u001b[39m] \u001b[38;5;66;03m# FK column has been dropped this season but available for previous\u001b[39;00m\n",
      "\u001b[36mFile \u001b[39m\u001b[32mc:\\wamp64\\www\\football-results-and-stats-scraping\\venv\\Lib\\site-packages\\pandas\\io\\html.py:1240\u001b[39m, in \u001b[36mread_html\u001b[39m\u001b[34m(io, match, flavor, header, index_col, skiprows, attrs, parse_dates, thousands, encoding, decimal, converters, na_values, keep_default_na, displayed_only, extract_links, dtype_backend, storage_options)\u001b[39m\n\u001b[32m   1224\u001b[39m \u001b[38;5;28;01mif\u001b[39;00m \u001b[38;5;28misinstance\u001b[39m(io, \u001b[38;5;28mstr\u001b[39m) \u001b[38;5;129;01mand\u001b[39;00m \u001b[38;5;129;01mnot\u001b[39;00m \u001b[38;5;28many\u001b[39m(\n\u001b[32m   1225\u001b[39m     [\n\u001b[32m   1226\u001b[39m         is_file_like(io),\n\u001b[32m   (...)\u001b[39m\u001b[32m   1230\u001b[39m     ]\n\u001b[32m   1231\u001b[39m ):\n\u001b[32m   1232\u001b[39m     warnings.warn(\n\u001b[32m   1233\u001b[39m         \u001b[33m\"\u001b[39m\u001b[33mPassing literal html to \u001b[39m\u001b[33m'\u001b[39m\u001b[33mread_html\u001b[39m\u001b[33m'\u001b[39m\u001b[33m is deprecated and \u001b[39m\u001b[33m\"\u001b[39m\n\u001b[32m   1234\u001b[39m         \u001b[33m\"\u001b[39m\u001b[33mwill be removed in a future version. To read from a \u001b[39m\u001b[33m\"\u001b[39m\n\u001b[32m   (...)\u001b[39m\u001b[32m   1237\u001b[39m         stacklevel=find_stack_level(),\n\u001b[32m   1238\u001b[39m     )\n\u001b[32m-> \u001b[39m\u001b[32m1240\u001b[39m \u001b[38;5;28;01mreturn\u001b[39;00m \u001b[43m_parse\u001b[49m\u001b[43m(\u001b[49m\n\u001b[32m   1241\u001b[39m \u001b[43m    \u001b[49m\u001b[43mflavor\u001b[49m\u001b[43m=\u001b[49m\u001b[43mflavor\u001b[49m\u001b[43m,\u001b[49m\n\u001b[32m   1242\u001b[39m \u001b[43m    \u001b[49m\u001b[43mio\u001b[49m\u001b[43m=\u001b[49m\u001b[43mio\u001b[49m\u001b[43m,\u001b[49m\n\u001b[32m   1243\u001b[39m \u001b[43m    \u001b[49m\u001b[43mmatch\u001b[49m\u001b[43m=\u001b[49m\u001b[43mmatch\u001b[49m\u001b[43m,\u001b[49m\n\u001b[32m   1244\u001b[39m \u001b[43m    \u001b[49m\u001b[43mheader\u001b[49m\u001b[43m=\u001b[49m\u001b[43mheader\u001b[49m\u001b[43m,\u001b[49m\n\u001b[32m   1245\u001b[39m \u001b[43m    \u001b[49m\u001b[43mindex_col\u001b[49m\u001b[43m=\u001b[49m\u001b[43mindex_col\u001b[49m\u001b[43m,\u001b[49m\n\u001b[32m   1246\u001b[39m \u001b[43m    \u001b[49m\u001b[43mskiprows\u001b[49m\u001b[43m=\u001b[49m\u001b[43mskiprows\u001b[49m\u001b[43m,\u001b[49m\n\u001b[32m   1247\u001b[39m \u001b[43m    \u001b[49m\u001b[43mparse_dates\u001b[49m\u001b[43m=\u001b[49m\u001b[43mparse_dates\u001b[49m\u001b[43m,\u001b[49m\n\u001b[32m   1248\u001b[39m \u001b[43m    \u001b[49m\u001b[43mthousands\u001b[49m\u001b[43m=\u001b[49m\u001b[43mthousands\u001b[49m\u001b[43m,\u001b[49m\n\u001b[32m   1249\u001b[39m \u001b[43m    \u001b[49m\u001b[43mattrs\u001b[49m\u001b[43m=\u001b[49m\u001b[43mattrs\u001b[49m\u001b[43m,\u001b[49m\n\u001b[32m   1250\u001b[39m \u001b[43m    \u001b[49m\u001b[43mencoding\u001b[49m\u001b[43m=\u001b[49m\u001b[43mencoding\u001b[49m\u001b[43m,\u001b[49m\n\u001b[32m   1251\u001b[39m \u001b[43m    \u001b[49m\u001b[43mdecimal\u001b[49m\u001b[43m=\u001b[49m\u001b[43mdecimal\u001b[49m\u001b[43m,\u001b[49m\n\u001b[32m   1252\u001b[39m \u001b[43m    \u001b[49m\u001b[43mconverters\u001b[49m\u001b[43m=\u001b[49m\u001b[43mconverters\u001b[49m\u001b[43m,\u001b[49m\n\u001b[32m   1253\u001b[39m \u001b[43m    \u001b[49m\u001b[43mna_values\u001b[49m\u001b[43m=\u001b[49m\u001b[43mna_values\u001b[49m\u001b[43m,\u001b[49m\n\u001b[32m   1254\u001b[39m \u001b[43m    \u001b[49m\u001b[43mkeep_default_na\u001b[49m\u001b[43m=\u001b[49m\u001b[43mkeep_default_na\u001b[49m\u001b[43m,\u001b[49m\n\u001b[32m   1255\u001b[39m \u001b[43m    \u001b[49m\u001b[43mdisplayed_only\u001b[49m\u001b[43m=\u001b[49m\u001b[43mdisplayed_only\u001b[49m\u001b[43m,\u001b[49m\n\u001b[32m   1256\u001b[39m \u001b[43m    \u001b[49m\u001b[43mextract_links\u001b[49m\u001b[43m=\u001b[49m\u001b[43mextract_links\u001b[49m\u001b[43m,\u001b[49m\n\u001b[32m   1257\u001b[39m \u001b[43m    \u001b[49m\u001b[43mdtype_backend\u001b[49m\u001b[43m=\u001b[49m\u001b[43mdtype_backend\u001b[49m\u001b[43m,\u001b[49m\n\u001b[32m   1258\u001b[39m \u001b[43m    \u001b[49m\u001b[43mstorage_options\u001b[49m\u001b[43m=\u001b[49m\u001b[43mstorage_options\u001b[49m\u001b[43m,\u001b[49m\n\u001b[32m   1259\u001b[39m \u001b[43m\u001b[49m\u001b[43m)\u001b[49m\n",
      "\u001b[36mFile \u001b[39m\u001b[32mc:\\wamp64\\www\\football-results-and-stats-scraping\\venv\\Lib\\site-packages\\pandas\\io\\html.py:1003\u001b[39m, in \u001b[36m_parse\u001b[39m\u001b[34m(flavor, io, match, attrs, encoding, displayed_only, extract_links, storage_options, **kwargs)\u001b[39m\n\u001b[32m   1001\u001b[39m \u001b[38;5;28;01melse\u001b[39;00m:\n\u001b[32m   1002\u001b[39m     \u001b[38;5;28;01massert\u001b[39;00m retained \u001b[38;5;129;01mis\u001b[39;00m \u001b[38;5;129;01mnot\u001b[39;00m \u001b[38;5;28;01mNone\u001b[39;00m  \u001b[38;5;66;03m# for mypy\u001b[39;00m\n\u001b[32m-> \u001b[39m\u001b[32m1003\u001b[39m     \u001b[38;5;28;01mraise\u001b[39;00m retained\n\u001b[32m   1005\u001b[39m ret = []\n\u001b[32m   1006\u001b[39m \u001b[38;5;28;01mfor\u001b[39;00m table \u001b[38;5;129;01min\u001b[39;00m tables:\n",
      "\u001b[36mFile \u001b[39m\u001b[32mc:\\wamp64\\www\\football-results-and-stats-scraping\\venv\\Lib\\site-packages\\pandas\\io\\html.py:983\u001b[39m, in \u001b[36m_parse\u001b[39m\u001b[34m(flavor, io, match, attrs, encoding, displayed_only, extract_links, storage_options, **kwargs)\u001b[39m\n\u001b[32m    972\u001b[39m p = parser(\n\u001b[32m    973\u001b[39m     io,\n\u001b[32m    974\u001b[39m     compiled_match,\n\u001b[32m   (...)\u001b[39m\u001b[32m    979\u001b[39m     storage_options,\n\u001b[32m    980\u001b[39m )\n\u001b[32m    982\u001b[39m \u001b[38;5;28;01mtry\u001b[39;00m:\n\u001b[32m--> \u001b[39m\u001b[32m983\u001b[39m     tables = \u001b[43mp\u001b[49m\u001b[43m.\u001b[49m\u001b[43mparse_tables\u001b[49m\u001b[43m(\u001b[49m\u001b[43m)\u001b[49m\n\u001b[32m    984\u001b[39m \u001b[38;5;28;01mexcept\u001b[39;00m \u001b[38;5;167;01mValueError\u001b[39;00m \u001b[38;5;28;01mas\u001b[39;00m caught:\n\u001b[32m    985\u001b[39m     \u001b[38;5;66;03m# if `io` is an io-like object, check if it's seekable\u001b[39;00m\n\u001b[32m    986\u001b[39m     \u001b[38;5;66;03m# and try to rewind it before trying the next parser\u001b[39;00m\n\u001b[32m    987\u001b[39m     \u001b[38;5;28;01mif\u001b[39;00m \u001b[38;5;28mhasattr\u001b[39m(io, \u001b[33m\"\u001b[39m\u001b[33mseekable\u001b[39m\u001b[33m\"\u001b[39m) \u001b[38;5;129;01mand\u001b[39;00m io.seekable():\n",
      "\u001b[36mFile \u001b[39m\u001b[32mc:\\wamp64\\www\\football-results-and-stats-scraping\\venv\\Lib\\site-packages\\pandas\\io\\html.py:249\u001b[39m, in \u001b[36m_HtmlFrameParser.parse_tables\u001b[39m\u001b[34m(self)\u001b[39m\n\u001b[32m    241\u001b[39m \u001b[38;5;28;01mdef\u001b[39;00m\u001b[38;5;250m \u001b[39m\u001b[34mparse_tables\u001b[39m(\u001b[38;5;28mself\u001b[39m):\n\u001b[32m    242\u001b[39m \u001b[38;5;250m    \u001b[39m\u001b[33;03m\"\"\"\u001b[39;00m\n\u001b[32m    243\u001b[39m \u001b[33;03m    Parse and return all tables from the DOM.\u001b[39;00m\n\u001b[32m    244\u001b[39m \n\u001b[32m   (...)\u001b[39m\u001b[32m    247\u001b[39m \u001b[33;03m    list of parsed (header, body, footer) tuples from tables.\u001b[39;00m\n\u001b[32m    248\u001b[39m \u001b[33;03m    \"\"\"\u001b[39;00m\n\u001b[32m--> \u001b[39m\u001b[32m249\u001b[39m     tables = \u001b[38;5;28;43mself\u001b[39;49m\u001b[43m.\u001b[49m\u001b[43m_parse_tables\u001b[49m\u001b[43m(\u001b[49m\u001b[38;5;28;43mself\u001b[39;49m\u001b[43m.\u001b[49m\u001b[43m_build_doc\u001b[49m\u001b[43m(\u001b[49m\u001b[43m)\u001b[49m\u001b[43m,\u001b[49m\u001b[43m \u001b[49m\u001b[38;5;28;43mself\u001b[39;49m\u001b[43m.\u001b[49m\u001b[43mmatch\u001b[49m\u001b[43m,\u001b[49m\u001b[43m \u001b[49m\u001b[38;5;28;43mself\u001b[39;49m\u001b[43m.\u001b[49m\u001b[43mattrs\u001b[49m\u001b[43m)\u001b[49m\n\u001b[32m    250\u001b[39m     \u001b[38;5;28;01mreturn\u001b[39;00m (\u001b[38;5;28mself\u001b[39m._parse_thead_tbody_tfoot(table) \u001b[38;5;28;01mfor\u001b[39;00m table \u001b[38;5;129;01min\u001b[39;00m tables)\n",
      "\u001b[36mFile \u001b[39m\u001b[32mc:\\wamp64\\www\\football-results-and-stats-scraping\\venv\\Lib\\site-packages\\pandas\\io\\html.py:598\u001b[39m, in \u001b[36m_BeautifulSoupHtml5LibFrameParser._parse_tables\u001b[39m\u001b[34m(self, document, match, attrs)\u001b[39m\n\u001b[32m    596\u001b[39m tables = document.find_all(element_name, attrs=attrs)\n\u001b[32m    597\u001b[39m \u001b[38;5;28;01mif\u001b[39;00m \u001b[38;5;129;01mnot\u001b[39;00m tables:\n\u001b[32m--> \u001b[39m\u001b[32m598\u001b[39m     \u001b[38;5;28;01mraise\u001b[39;00m \u001b[38;5;167;01mValueError\u001b[39;00m(\u001b[33m\"\u001b[39m\u001b[33mNo tables found\u001b[39m\u001b[33m\"\u001b[39m)\n\u001b[32m    600\u001b[39m result = []\n\u001b[32m    601\u001b[39m unique_tables = \u001b[38;5;28mset\u001b[39m()\n",
      "\u001b[31mValueError\u001b[39m: No tables found"
     ]
    }
   ],
   "source": [
    "import time\n",
    "\n",
    "league_url = \"https://fbref.com/en/comps/10/Championship-Stats\"\n",
    "\n",
    "for year in years:\n",
    "    driver.get(league_url)\n",
    "    data = driver.page_source\n",
    "    soup = BeautifulSoup(data)\n",
    "    league_table = soup.select_one('table.stats_table')\n",
    "\n",
    "    links = [l.get(\"href\") for l in league_table.find_all('a')]\n",
    "    links = [l for l in links if '/squads/' in l]\n",
    "    team_urls = [f\"https://fbref.com{l}\" for l in links]\n",
    "\n",
    "    previous_season = soup.select_one(\"a.prev\").get(\"href\")\n",
    "    league_url = f\"https://fbref.com{previous_season}\"\n",
    "    \n",
    "    for team_url in team_urls:\n",
    "        team_name = team_url.split(\"/\")[-1].replace(\"-Stats\", \"\").replace(\"-\", \" \")\n",
    "        driver.get(team_url)\n",
    "        data = StringIO(driver.page_source)\n",
    "        matches = pd.read_html(data, match=\"Scores & Fixtures\")[0]\n",
    "        soup = BeautifulSoup(data)\n",
    "        links = [l.get(\"href\") for l in soup.find_all('a')]\n",
    "        links = [l for l in links if l and 'all_comps/shooting/' in l]\n",
    "        \n",
    "        driver.get(f\"https://fbref.com{links[0]}\")\n",
    "        data = StringIO(driver.page_source)\n",
    "        shooting = pd.read_html(data, match=\"Shooting\", flavor='html5lib')[0]\n",
    "        shooting.columns = shooting.columns.droplevel()\n",
    "\n",
    "        desired_cols = [\"Date\", \"Sh\", \"SoT\", \"Dist\", \"FK\", \"PK\", \"PKatt\", \"xG\", \"npxG\"] # FK column has been dropped this season but available for previous\n",
    "        available_cols = [col for col in desired_cols if col in shooting.columns]\n",
    "        \n",
    "        try:\n",
    "            team_data = matches.merge(shooting[available_cols], on=\"Date\")\n",
    "        except ValueError as e:\n",
    "            print(f\"Skipping {team_name} ({year}) due to merge error: {e}\")\n",
    "            continue\n",
    "        team_data = team_data[team_data[\"Comp\"] == \"Championship\"] # filter out cup games\n",
    "\n",
    "        team_data[\"Team\"] = team_name\n",
    "        team_data[\"Season\"] = year\n",
    "        all_matches.append(team_data) # add team name and season to the list\n",
    "        time.sleep(5) # sleep for 5 seconds to avoid overwhelming the server"
   ]
  },
  {
   "cell_type": "code",
   "execution_count": null,
   "id": "7e5376ac",
   "metadata": {},
   "outputs": [],
   "source": [
    "# Close the Selenium WebDriver when done\n",
    "driver.quit()"
   ]
  },
  {
   "cell_type": "code",
   "execution_count": null,
   "id": "d64c2086-7aeb-45f4-a3c5-4f723eda98e9",
   "metadata": {},
   "outputs": [],
   "source": [
    "len(all_matches)"
   ]
  },
  {
   "cell_type": "code",
   "execution_count": null,
   "id": "5e43f577-f96a-49d3-8c28-3933617ef207",
   "metadata": {},
   "outputs": [],
   "source": [
    "match_df = pd.concat(all_matches)"
   ]
  },
  {
   "cell_type": "code",
   "execution_count": null,
   "id": "68c50681-09db-4ff0-b7c6-9b36dd648442",
   "metadata": {},
   "outputs": [],
   "source": [
    "match_df.columns = [c.lower() for c in match_df.columns]"
   ]
  },
  {
   "cell_type": "code",
   "execution_count": null,
   "id": "0915fcdf-6cdf-4acf-8ed4-5a847d95e229",
   "metadata": {},
   "outputs": [],
   "source": [
    "match_df"
   ]
  },
  {
   "cell_type": "code",
   "execution_count": null,
   "id": "fbf6c104-708f-4a9f-80fe-3e3085263a09",
   "metadata": {},
   "outputs": [],
   "source": [
    "from IPython.display import FileLink\n",
    "\n",
    "match_df.to_csv(\"matches.csv\")\n",
    "FileLink(\"matches.csv\")"
   ]
  }
 ],
 "metadata": {
  "kernelspec": {
   "display_name": "venv",
   "language": "python",
   "name": "python3"
  },
  "language_info": {
   "codemirror_mode": {
    "name": "ipython",
    "version": 3
   },
   "file_extension": ".py",
   "mimetype": "text/x-python",
   "name": "python",
   "nbconvert_exporter": "python",
   "pygments_lexer": "ipython3",
   "version": "3.11.3"
  }
 },
 "nbformat": 4,
 "nbformat_minor": 5
}
